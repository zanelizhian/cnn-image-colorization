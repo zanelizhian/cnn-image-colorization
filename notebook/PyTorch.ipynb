{
 "cells": [
  {
   "cell_type": "code",
   "execution_count": 1,
   "metadata": {},
   "outputs": [
    {
     "name": "stdout",
     "output_type": "stream",
     "text": [
      "cuda:0\n"
     ]
    }
   ],
   "source": [
    "import torch\n",
    "import torchvision\n",
    "import torchvision.transforms as transforms\n",
    "import matplotlib.pyplot as plt\n",
    "import numpy as np\n",
    "%matplotlib inline\n",
    "device = torch.device(\"cuda:0\" if torch.cuda.is_available() else \"cpu\")\n",
    "\n",
    "# Assuming that we are on a CUDA machine, this should print a CUDA device:\n",
    "\n",
    "print(device)"
   ]
  },
  {
   "cell_type": "markdown",
   "metadata": {},
   "source": [
    "## (a)"
   ]
  },
  {
   "cell_type": "code",
   "execution_count": 2,
   "metadata": {},
   "outputs": [
    {
     "name": "stdout",
     "output_type": "stream",
     "text": [
      "Files already downloaded and verified\n",
      "Files already downloaded and verified\n"
     ]
    }
   ],
   "source": [
    "import torchvision\n",
    "import torchvision.transforms as transforms\n",
    "from torchvision.datasets import CIFAR10\n",
    "from torch.utils.data import Dataset, DataLoader\n",
    "import numpy as np\n",
    "\n",
    "# Transformations\n",
    "RC   = transforms.RandomCrop(32, padding=4)\n",
    "RHF  = transforms.RandomHorizontalFlip()\n",
    "RVF  = transforms.RandomVerticalFlip()\n",
    "NRM  = transforms.Normalize((0.4914, 0.4822, 0.4465), (0.2023, 0.1994, 0.2010))\n",
    "TT   = transforms.ToTensor()\n",
    "TPIL = transforms.ToPILImage()\n",
    "\n",
    "# Transforms object for trainset with augmentation\n",
    "transform_with_aug = transforms.Compose([TPIL, RC, RHF, TT, NRM])\n",
    "# Transforms object for testset with NO augmentation\n",
    "transform_no_aug   = transforms.Compose([TT, NRM])\n",
    "# Transforms object for testset with NO augmentation\n",
    "transform_no = transforms.Compose([])\n",
    "\n",
    "# Downloading/Louding CIFAR10 data\n",
    "trainset  = CIFAR10(root='../data', train=True , download=True)#, transform = transform_with_aug)\n",
    "testset   = CIFAR10(root='../data', train=False, download=True)#, transform = transform_no_aug)\n",
    "classDict = {'plane':0, 'car':1, 'bird':2, 'cat':3, 'deer':4, 'dog':5, 'frog':6, 'horse':7, 'ship':8, 'truck':9}\n",
    "classes = ('plane', 'car', 'bird', 'cat',\n",
    "           'deer', 'dog', 'frog', 'horse', 'ship', 'truck')"
   ]
  },
  {
   "cell_type": "markdown",
   "metadata": {},
   "source": [
    "## (b)\n",
    "Extract class bird, which class label is 2"
   ]
  },
  {
   "cell_type": "code",
   "execution_count": 3,
   "metadata": {},
   "outputs": [],
   "source": [
    "def get_class_i(x, y, i):\n",
    "    \"\"\"\n",
    "    x: trainset.train_data or testset.test_data\n",
    "    y: trainset.train_labels or testset.test_labels\n",
    "    i: class label, a number between 0 to 9\n",
    "    return: x_i\n",
    "    \"\"\"\n",
    "    # Convert to a numpy array\n",
    "    y = np.array(y)\n",
    "    # Locate position of labels that equal to i\n",
    "    pos_i = np.argwhere(y == i)\n",
    "    # Convert the result into a 1-D list\n",
    "    pos_i = list(pos_i[:,0])\n",
    "    # Collect all data that match the desired label\n",
    "    x_i = [x[j] for j in pos_i]\n",
    "    \n",
    "    return x_i"
   ]
  },
  {
   "cell_type": "code",
   "execution_count": 4,
   "metadata": {},
   "outputs": [],
   "source": [
    "# Separating trainset/testset data/label\n",
    "x_train = trainset.data\n",
    "x_test = testset.data\n",
    "y_train = trainset.targets\n",
    "y_test = testset.targets\n",
    "\n",
    "# Define a function to separate CIFAR classes by class index\n",
    "\n",
    "def get_class_i(x, y, i):\n",
    "    \"\"\"\n",
    "    x: trainset.train_data or testset.test_data\n",
    "    y: trainset.train_labels or testset.test_labels\n",
    "    i: class label, a number between 0 to 9\n",
    "    return: x_i\n",
    "    \"\"\"\n",
    "    # Convert to a numpy array\n",
    "    y = np.array(y)\n",
    "    # Locate position of labels that equal to i\n",
    "    pos_i = np.argwhere(y == i)\n",
    "    # Convert the result into a 1-D list\n",
    "    pos_i = list(pos_i[:,0])\n",
    "    # Collect all data that match the desired label\n",
    "    x_i = [x[j] for j in pos_i]\n",
    "    \n",
    "    return x_i\n",
    "\n",
    "class DatasetMaker(Dataset):\n",
    "    def __init__(self, datasets, transformFunc = transform_no_aug):\n",
    "        \"\"\"\n",
    "        datasets: a list of get_class_i outputs, i.e. a list of list of images for selected classes\n",
    "        \"\"\"\n",
    "        self.datasets = datasets\n",
    "        self.lengths  = [len(d) for d in self.datasets]\n",
    "        self.transformFunc = transformFunc\n",
    "    def __getitem__(self, i):\n",
    "        class_label, index_wrt_class = self.index_of_which_bin(self.lengths, i)\n",
    "        img = self.datasets[class_label][index_wrt_class]\n",
    "        img = self.transformFunc(img)\n",
    "        return img, class_label\n",
    "\n",
    "    def __len__(self):\n",
    "        return sum(self.lengths)\n",
    "    \n",
    "    def index_of_which_bin(self, bin_sizes, absolute_index, verbose=False):\n",
    "        \"\"\"\n",
    "        Given the absolute index, returns which bin it falls in and which element of that bin it corresponds to.\n",
    "        \"\"\"\n",
    "        # Which class/bin does i fall into?\n",
    "        accum = np.add.accumulate(bin_sizes)\n",
    "        if verbose:\n",
    "            print(\"accum =\", accum)\n",
    "        bin_index  = len(np.argwhere(accum <= absolute_index))\n",
    "        if verbose:\n",
    "            print(\"class_label =\", bin_index)\n",
    "        # Which element of the fallent class/bin does i correspond to?\n",
    "        index_wrt_class = absolute_index - np.insert(accum, 0, 0)[bin_index]\n",
    "        if verbose:\n",
    "            print(\"index_wrt_class =\", index_wrt_class)\n",
    "\n",
    "        return bin_index, index_wrt_class\n",
    "\n",
    "# ================== Usage ================== #\n",
    "\n",
    "# Let's choose cats (class 3 of CIFAR) and dogs (class 5 of CIFAR) as trainset/testset\n",
    "bird_trainset = \\\n",
    "    DatasetMaker(\n",
    "        [get_class_i(x_train, y_train, classDict['bird'])],\n",
    "        transform_no\n",
    "    )\n",
    "bird_testset  = \\\n",
    "    DatasetMaker(\n",
    "        [get_class_i(x_test , y_test , classDict['bird'])],\n",
    "        transform_no\n",
    "    )\n",
    "\n",
    "kwargs = {'num_workers': 2, 'pin_memory': False}\n",
    "\n",
    "# Create datasetLoaders from trainset and testset\n",
    "trainsetLoader   = DataLoader(bird_trainset, batch_size=len(bird_trainset), shuffle=False , **kwargs)\n",
    "testsetLoader    = DataLoader(bird_testset , batch_size=len(bird_testset), shuffle=False, **kwargs)"
   ]
  },
  {
   "cell_type": "code",
   "execution_count": 5,
   "metadata": {},
   "outputs": [],
   "source": [
    "def imshow(img):\n",
    "    # img = img / 2 + 0.5     # unnormalize\n",
    "    npimg = img.numpy()\n",
    "    plt.imshow(npimg)\n",
    "    plt.show()\n",
    "\n",
    "\n",
    "# get some random training images\n",
    "dataiter = iter(trainsetLoader)\n",
    "train_images, train_labels = dataiter.next()\n",
    "\n",
    "test_images, test_labels = iter(testsetLoader).next()\n",
    "\n",
    "images = torch.cat((train_images, test_images), 0)\n",
    "labels = torch.cat((train_labels, test_labels), 0)"
   ]
  },
  {
   "cell_type": "code",
   "execution_count": 6,
   "metadata": {},
   "outputs": [
    {
     "data": {
      "text/plain": [
       "tensor([[[164, 206,  84],\n",
       "         [105, 140,  61],\n",
       "         [118, 148, 101],\n",
       "         ...,\n",
       "         [109, 147,  73],\n",
       "         [108, 147,  69],\n",
       "         [ 91, 129,  57]],\n",
       "\n",
       "        [[167, 213,  84],\n",
       "         [116, 160,  49],\n",
       "         [ 72, 109,  43],\n",
       "         ...,\n",
       "         [105, 142,  79],\n",
       "         [105, 142,  72],\n",
       "         [ 89, 127,  57]],\n",
       "\n",
       "        [[140, 191,  65],\n",
       "         [142, 193,  66],\n",
       "         [119, 163,  79],\n",
       "         ...,\n",
       "         [104, 139,  84],\n",
       "         [ 84, 120,  58],\n",
       "         [ 78, 115,  49]],\n",
       "\n",
       "        ...,\n",
       "\n",
       "        [[139, 148,  81],\n",
       "         [142, 155,  74],\n",
       "         [135, 156,  72],\n",
       "         ...,\n",
       "         [ 89, 134,  28],\n",
       "         [ 97, 148,  24],\n",
       "         [126, 176,  49]],\n",
       "\n",
       "        [[163, 157,  85],\n",
       "         [153, 164,  82],\n",
       "         [146, 164,  90],\n",
       "         ...,\n",
       "         [ 85, 130,  19],\n",
       "         [ 98, 148,  27],\n",
       "         [127, 178,  48]],\n",
       "\n",
       "        [[183, 153, 102],\n",
       "         [176, 182, 116],\n",
       "         [154, 154, 100],\n",
       "         ...,\n",
       "         [ 94, 134,  29],\n",
       "         [ 91, 133,  26],\n",
       "         [122, 170,  44]]], dtype=torch.uint8)"
      ]
     },
     "execution_count": 6,
     "metadata": {},
     "output_type": "execute_result"
    }
   ],
   "source": [
    "train_images[0]"
   ]
  },
  {
   "cell_type": "code",
   "execution_count": 7,
   "metadata": {},
   "outputs": [
    {
     "name": "stdout",
     "output_type": "stream",
     "text": [
      "torch.uint8\n",
      "torch.Size([6000, 32, 32, 3])\n",
      "torch.int64\n",
      "torch.Size([6000])\n"
     ]
    }
   ],
   "source": [
    "print(images.dtype)\n",
    "print(images.shape)\n",
    "print(labels.dtype)\n",
    "print(labels.shape)"
   ]
  },
  {
   "cell_type": "code",
   "execution_count": 8,
   "metadata": {},
   "outputs": [
    {
     "data": {
      "text/plain": [
       "<matplotlib.image.AxesImage at 0x7f2ff0a56bb0>"
      ]
     },
     "execution_count": 8,
     "metadata": {},
     "output_type": "execute_result"
    },
    {
     "data": {
      "image/png": "[encoded data removed]",
      "text/plain": [
       "<Figure size 432x288 with 1 Axes>"
      ]
     },
     "metadata": {
      "needs_background": "light"
     },
     "output_type": "display_data"
    }
   ],
   "source": [
    "plt.imshow(torch.reshape(images[0], [32,32,3]))"
   ]
  },
  {
   "cell_type": "code",
   "execution_count": 9,
   "metadata": {},
   "outputs": [
    {
     "data": {
      "text/plain": [
       "tensor([[[164, 206,  84],\n",
       "         [105, 140,  61],\n",
       "         [118, 148, 101],\n",
       "         ...,\n",
       "         [109, 147,  73],\n",
       "         [108, 147,  69],\n",
       "         [ 91, 129,  57]],\n",
       "\n",
       "        [[167, 213,  84],\n",
       "         [116, 160,  49],\n",
       "         [ 72, 109,  43],\n",
       "         ...,\n",
       "         [105, 142,  79],\n",
       "         [105, 142,  72],\n",
       "         [ 89, 127,  57]],\n",
       "\n",
       "        [[140, 191,  65],\n",
       "         [142, 193,  66],\n",
       "         [119, 163,  79],\n",
       "         ...,\n",
       "         [104, 139,  84],\n",
       "         [ 84, 120,  58],\n",
       "         [ 78, 115,  49]],\n",
       "\n",
       "        ...,\n",
       "\n",
       "        [[139, 148,  81],\n",
       "         [142, 155,  74],\n",
       "         [135, 156,  72],\n",
       "         ...,\n",
       "         [ 89, 134,  28],\n",
       "         [ 97, 148,  24],\n",
       "         [126, 176,  49]],\n",
       "\n",
       "        [[163, 157,  85],\n",
       "         [153, 164,  82],\n",
       "         [146, 164,  90],\n",
       "         ...,\n",
       "         [ 85, 130,  19],\n",
       "         [ 98, 148,  27],\n",
       "         [127, 178,  48]],\n",
       "\n",
       "        [[183, 153, 102],\n",
       "         [176, 182, 116],\n",
       "         [154, 154, 100],\n",
       "         ...,\n",
       "         [ 94, 134,  29],\n",
       "         [ 91, 133,  26],\n",
       "         [122, 170,  44]]], dtype=torch.uint8)"
      ]
     },
     "execution_count": 9,
     "metadata": {},
     "output_type": "execute_result"
    }
   ],
   "source": [
    "torch.reshape(images[0], [32,32,3])"
   ]
  },
  {
   "cell_type": "code",
   "execution_count": 11,
   "metadata": {},
   "outputs": [
    {
     "data": {
      "text/plain": [
       "<matplotlib.image.AxesImage at 0x7f2ff09690d0>"
      ]
     },
     "execution_count": 11,
     "metadata": {},
     "output_type": "execute_result"
    },
    {
     "data": {
      "image/png": "[encoded data removed]",
      "text/plain": [
       "<Figure size 432x288 with 1 Axes>"
      ]
     },
     "metadata": {
      "needs_background": "light"
     },
     "output_type": "display_data"
    }
   ],
   "source": [
    "im = torch.reshape(images[0], [3, 32*32])\n",
    "im = torch.transpose(im, 0, 1)\n",
    "im = torch.reshape(images[0], [32,32,3])\n",
    "plt.imshow(im)"
   ]
  },
  {
   "cell_type": "code",
   "execution_count": null,
   "metadata": {},
   "outputs": [],
   "source": []
  }
 ],
 "metadata": {
  "kernelspec": {
   "display_name": "Python 3.8 (pytorch)",
   "language": "python",
   "name": "pytorch"
  },
  "language_info": {
   "codemirror_mode": {
    "name": "ipython",
    "version": 3
   },
   "file_extension": ".py",
   "mimetype": "text/x-python",
   "name": "python",
   "nbconvert_exporter": "python",
   "pygments_lexer": "ipython3",
   "version": "3.8.8"
  }
 },
 "nbformat": 4,
 "nbformat_minor": 4
}
